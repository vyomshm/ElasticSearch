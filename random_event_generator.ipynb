{
 "cells": [
  {
   "cell_type": "markdown",
   "metadata": {
    "deletable": true,
    "editable": true
   },
   "source": [
    "# This notebook contains code which writes fictional 1 million file transfer details, across 5 data-centers, on to a cloud hosted ElasticSearch"
   ]
  },
  {
   "cell_type": "markdown",
   "metadata": {
    "deletable": true,
    "editable": true
   },
   "source": [
    "### Assumptions about the data:\n",
    "\n",
    "* 5 data centers from 'a'-'e'.\n",
    "* Data center a is better i.e. more transfers originate there\n",
    "* File transfer sizes range from 1kb to 10Gb\n",
    "* 5 clusters have been made based on file sizes(0-100MB, 100MB-1Gb, 1gb-2gb, 2gb-10gb) which determine the time delay during transfer\n",
    "* All failed transfers have an automatic delay of 10 seconds\n"
   ]
  },
  {
   "cell_type": "code",
   "execution_count": 1,
   "metadata": {
    "collapsed": true,
    "deletable": true,
    "editable": true
   },
   "outputs": [],
   "source": [
    "#  Dependencies\n",
    "import requests\n",
    "from elasticsearch import Elasticsearch,helpers\n",
    "import certifi\n",
    "from datetime import datetime,timedelta\n",
    "import radar\n",
    "import numpy as np\n",
    "import uuid\n",
    "import random"
   ]
  },
  {
   "cell_type": "code",
   "execution_count": 2,
   "metadata": {
    "collapsed": true,
    "deletable": true,
    "editable": true
   },
   "outputs": [],
   "source": [
    "host_name ='https://9e2a4b7052bdf8fd2685a0f5a35ae274.ap-southeast-1.aws.found.io'"
   ]
  },
  {
   "cell_type": "code",
   "execution_count": 3,
   "metadata": {
    "collapsed": false,
    "deletable": true,
    "editable": true
   },
   "outputs": [],
   "source": [
    "# initialise elastic search with authorisation\n",
    "es = Elasticsearch(\n",
    "        [host_name],\n",
    "        port=9243,\n",
    "        http_auth=(\"gsoc\",\"vyom@gsoc\"),\n",
    "        use_ssl=True,\n",
    "        verify_certs=True,\n",
    "        ca_certs=certifi.where(),\n",
    "    )"
   ]
  },
  {
   "cell_type": "code",
   "execution_count": 4,
   "metadata": {
    "collapsed": false,
    "deletable": true,
    "editable": true
   },
   "outputs": [
    {
     "data": {
      "text/plain": [
       "200"
      ]
     },
     "execution_count": 4,
     "metadata": {},
     "output_type": "execute_result"
    }
   ],
   "source": [
    "r= requests.get(host_name, auth=('gsoc','vyom@gsoc'))\n",
    "r.status_code"
   ]
  },
  {
   "cell_type": "code",
   "execution_count": 5,
   "metadata": {
    "collapsed": true,
    "deletable": true,
    "editable": true
   },
   "outputs": [],
   "source": [
    "def generate_timestamp():\n",
    "    \n",
    "    start= '2017-01-01T00:00:00'\n",
    "    end = '2017-03-01T00:00:00'\n",
    "    timestamp= radar.random_datetime(start, end)\n",
    "    return timestamp"
   ]
  },
  {
   "cell_type": "code",
   "execution_count": 6,
   "metadata": {
    "collapsed": false,
    "deletable": true,
    "editable": true
   },
   "outputs": [
    {
     "name": "stdout",
     "output_type": "stream",
     "text": [
      "original time:2017-01-14 01:05:28 final_time:2017-01-14 01:16:51 time_delay:683\n"
     ]
    }
   ],
   "source": [
    "random.seed(1)\n",
    "def transfer_time(file_size):\n",
    "    if file_size>0 and file_size<=100000000:     # less than 100 MB\n",
    "        return random.gauss(1500, 500)\n",
    "    elif file_size<= 1000000000:                 # b/w 100MB and 1GB\n",
    "        return random.gauss(4000, 500)\n",
    "    elif file_size<= 2000000000:                 # b/w 1GB and 2GB\n",
    "        return random.gauss(6500, 500)\n",
    "    elif file_size <= 10000000000:               # b/w 2GB and 10GB\n",
    "        return random.gauss(9000, 500)\n",
    "    else :                                       # any anomalous value\n",
    "        return 100\n",
    "\n",
    "z= generate_timestamp()\n",
    "delay = int(transfer_time(10000000))\n",
    "w= z + timedelta(seconds=delay) \n",
    "print('original time:{} final_time:{} time_delay:{}'.format(z,w,delay))"
   ]
  },
  {
   "cell_type": "code",
   "execution_count": 10,
   "metadata": {
    "collapsed": false,
    "deletable": true,
    "editable": true
   },
   "outputs": [],
   "source": [
    "bulk_initial=[]\n",
    "bulk_final=[]\n",
    "\n",
    "random.seed(1)\n",
    "np.random.seed(1)\n",
    "\n",
    "for i in range(0,1000000):\n",
    "    src_centers=['data center a','data center b','data center c','data center d','data center e']\n",
    "    transfer_src = np.random.choice(src_centers, p=[0.3, 0.175, 0.175, 0.175, 0.175])\n",
    "\n",
    "    dst_centers = [x for x in src_centers if x != transfer_src]\n",
    "    transfer_dst = np.random.choice(dst_centers)\n",
    "\n",
    "    final_transfer_status = ['transfer-success','transfer-failure']\n",
    "\n",
    "    transfer_starttime = generate_timestamp()\n",
    "    file_size=random.choice(range(1024,10000000000))\n",
    "\n",
    "    ftp={\n",
    "        'event_type': 'transfer-queued',\n",
    "        'uuid': uuid.uuid4(),\n",
    "        'src_site' : transfer_src,\n",
    "        'dst_site' : transfer_dst,\n",
    "        'timestamp': transfer_starttime,\n",
    "        'bytes' : file_size\n",
    "    }\n",
    "    z={\n",
    "        '_index': 'ft_initial',\n",
    "        '_type': 'transfer',\n",
    "        '_id': (i+1),\n",
    "        '_source': ftp\n",
    "    }\n",
    "\n",
    "    bulk_initial.append(z)\n",
    "        \n",
    "    ftp2 = ftp.copy()\n",
    "    transfer_status = ['transfer-success', 'transfer-failure']\n",
    "    final_status = np.random.choice(transfer_status, p=[0.95,0.05])\n",
    "    ftp2['event_type'] = final_status\n",
    "    \n",
    "    if (final_status=='transfer-failure'):\n",
    "        time_delay = 10\n",
    "    else :\n",
    "        time_delay = int(transfer_time(file_size))   # ranges roughly from 0-10000 s \n",
    "    \n",
    "    ftp2['timestamp'] = transfer_starttime + timedelta(seconds=time_delay)\n",
    "    z={\n",
    "        '_index': 'ft_final',\n",
    "        '_type': 'transfer',\n",
    "        '_id': (i+1),\n",
    "        '_source': ftp2\n",
    "    }\n",
    "    \n",
    "    bulk_final.append(z)"
   ]
  },
  {
   "cell_type": "code",
   "execution_count": 11,
   "metadata": {
    "collapsed": false,
    "deletable": true,
    "editable": true
   },
   "outputs": [
    {
     "data": {
      "text/plain": [
       "1000000"
      ]
     },
     "execution_count": 11,
     "metadata": {},
     "output_type": "execute_result"
    }
   ],
   "source": [
    "len(bulk_final)"
   ]
  },
  {
   "cell_type": "code",
   "execution_count": 12,
   "metadata": {
    "collapsed": false,
    "deletable": true,
    "editable": true,
    "scrolled": true
   },
   "outputs": [
    {
     "data": {
      "text/plain": [
       "1000000"
      ]
     },
     "execution_count": 12,
     "metadata": {},
     "output_type": "execute_result"
    }
   ],
   "source": [
    "len(bulk_initial)"
   ]
  },
  {
   "cell_type": "code",
   "execution_count": 13,
   "metadata": {
    "collapsed": false,
    "deletable": true,
    "editable": true
   },
   "outputs": [
    {
     "data": {
      "text/plain": [
       "(1000000, [])"
      ]
     },
     "execution_count": 13,
     "metadata": {},
     "output_type": "execute_result"
    }
   ],
   "source": [
    "helpers.bulk(es,bulk_initial)"
   ]
  },
  {
   "cell_type": "code",
   "execution_count": 14,
   "metadata": {
    "collapsed": false,
    "deletable": true,
    "editable": true
   },
   "outputs": [
    {
     "data": {
      "text/plain": [
       "(1000000, [])"
      ]
     },
     "execution_count": 14,
     "metadata": {},
     "output_type": "execute_result"
    }
   ],
   "source": [
    "helpers.bulk(es,bulk_final)"
   ]
  },
  {
   "cell_type": "code",
   "execution_count": 15,
   "metadata": {
    "collapsed": false,
    "deletable": true,
    "editable": true,
    "scrolled": true
   },
   "outputs": [
    {
     "data": {
      "text/plain": [
       "{'_shards': {'failed': 0, 'successful': 1, 'total': 1},\n",
       " 'hits': {'hits': [{'_id': '1501',\n",
       "    '_index': 'ft_final',\n",
       "    '_score': 1.0,\n",
       "    '_source': {'bytes': 8940116437,\n",
       "     'dst_site': 'data center e',\n",
       "     'event_type': 'transfer-success',\n",
       "     'src_site': 'data center c',\n",
       "     'timestamp': '2017-02-26T08:59:53',\n",
       "     'uuid': 'ebbf565d-7e70-4677-9f07-b08d72051ddb'},\n",
       "    '_type': 'transfer'},\n",
       "   {'_id': '1502',\n",
       "    '_index': 'ft_final',\n",
       "    '_score': 1.0,\n",
       "    '_source': {'bytes': 1288661369,\n",
       "     'dst_site': 'data center c',\n",
       "     'event_type': 'transfer-success',\n",
       "     'src_site': 'data center b',\n",
       "     'timestamp': '2017-02-03T09:14:05',\n",
       "     'uuid': '3ba82468-6516-4d6f-883c-1ac1108c3d89'},\n",
       "    '_type': 'transfer'},\n",
       "   {'_id': '1503',\n",
       "    '_index': 'ft_final',\n",
       "    '_score': 1.0,\n",
       "    '_source': {'bytes': 4230378729,\n",
       "     'dst_site': 'data center d',\n",
       "     'event_type': 'transfer-success',\n",
       "     'src_site': 'data center b',\n",
       "     'timestamp': '2017-01-21T01:26:39',\n",
       "     'uuid': '22b1ff08-a2ec-427e-b53b-fea91787e7b5'},\n",
       "    '_type': 'transfer'},\n",
       "   {'_id': '1504',\n",
       "    '_index': 'ft_final',\n",
       "    '_score': 1.0,\n",
       "    '_source': {'bytes': 8116545364,\n",
       "     'dst_site': 'data center a',\n",
       "     'event_type': 'transfer-success',\n",
       "     'src_site': 'data center d',\n",
       "     'timestamp': '2017-02-08T05:53:03',\n",
       "     'uuid': '713aabb7-0cfd-4b3e-a1ad-9de5fbb6ac50'},\n",
       "    '_type': 'transfer'},\n",
       "   {'_id': '1505',\n",
       "    '_index': 'ft_final',\n",
       "    '_score': 1.0,\n",
       "    '_source': {'bytes': 5182557683,\n",
       "     'dst_site': 'data center e',\n",
       "     'event_type': 'transfer-success',\n",
       "     'src_site': 'data center a',\n",
       "     'timestamp': '2017-01-23T12:50:15',\n",
       "     'uuid': '3395b5c9-fee0-4dbd-ac0b-5e2ffc59d4b3'},\n",
       "    '_type': 'transfer'},\n",
       "   {'_id': '1506',\n",
       "    '_index': 'ft_final',\n",
       "    '_score': 1.0,\n",
       "    '_source': {'bytes': 9248474152,\n",
       "     'dst_site': 'data center d',\n",
       "     'event_type': 'transfer-success',\n",
       "     'src_site': 'data center a',\n",
       "     'timestamp': '2017-02-27T04:00:30',\n",
       "     'uuid': 'f8f6b7c5-62ad-438f-8f59-948def6d2879'},\n",
       "    '_type': 'transfer'},\n",
       "   {'_id': '1507',\n",
       "    '_index': 'ft_final',\n",
       "    '_score': 1.0,\n",
       "    '_source': {'bytes': 5940615025,\n",
       "     'dst_site': 'data center e',\n",
       "     'event_type': 'transfer-success',\n",
       "     'src_site': 'data center a',\n",
       "     'timestamp': '2017-01-12T10:13:05',\n",
       "     'uuid': '8705b7c2-34b7-4b02-8d20-0f6a93ba66bc'},\n",
       "    '_type': 'transfer'},\n",
       "   {'_id': '1508',\n",
       "    '_index': 'ft_final',\n",
       "    '_score': 1.0,\n",
       "    '_source': {'bytes': 2883608947,\n",
       "     'dst_site': 'data center c',\n",
       "     'event_type': 'transfer-success',\n",
       "     'src_site': 'data center e',\n",
       "     'timestamp': '2017-02-04T23:09:54',\n",
       "     'uuid': '90ee1574-491b-4630-a79d-edc262e77dfb'},\n",
       "    '_type': 'transfer'},\n",
       "   {'_id': '1509',\n",
       "    '_index': 'ft_final',\n",
       "    '_score': 1.0,\n",
       "    '_source': {'bytes': 3311485830,\n",
       "     'dst_site': 'data center c',\n",
       "     'event_type': 'transfer-success',\n",
       "     'src_site': 'data center b',\n",
       "     'timestamp': '2017-02-17T11:26:55',\n",
       "     'uuid': '20d1de68-44cc-438f-aaef-dce14d08b886'},\n",
       "    '_type': 'transfer'},\n",
       "   {'_id': '1510',\n",
       "    '_index': 'ft_final',\n",
       "    '_score': 1.0,\n",
       "    '_source': {'bytes': 1219443463,\n",
       "     'dst_site': 'data center d',\n",
       "     'event_type': 'transfer-success',\n",
       "     'src_site': 'data center c',\n",
       "     'timestamp': '2017-01-25T06:24:23',\n",
       "     'uuid': '7cac7bea-3304-48e2-b3a6-8248584e25c0'},\n",
       "    '_type': 'transfer'}],\n",
       "  'max_score': 1.0,\n",
       "  'total': 1000000},\n",
       " 'timed_out': False,\n",
       " 'took': 10}"
      ]
     },
     "execution_count": 15,
     "metadata": {},
     "output_type": "execute_result"
    }
   ],
   "source": [
    "es.search(index='ft_final')"
   ]
  },
  {
   "cell_type": "code",
   "execution_count": 16,
   "metadata": {
    "collapsed": false,
    "deletable": true,
    "editable": true
   },
   "outputs": [
    {
     "data": {
      "text/plain": [
       "{'_shards': {'failed': 0, 'successful': 1, 'total': 1},\n",
       " 'hits': {'hits': [{'_id': '10001',\n",
       "    '_index': 'ft_initial',\n",
       "    '_score': 1.0,\n",
       "    '_source': {'bytes': 5501044291,\n",
       "     'dst_site': 'data center b',\n",
       "     'event_type': 'transfer-queued',\n",
       "     'src_site': 'data center e',\n",
       "     'timestamp': '2017-01-21T20:16:55',\n",
       "     'uuid': '378d4d93-2fd3-4d67-9f1d-589d52e42069'},\n",
       "    '_type': 'transfer'},\n",
       "   {'_id': '10002',\n",
       "    '_index': 'ft_initial',\n",
       "    '_score': 1.0,\n",
       "    '_source': {'bytes': 5841332618,\n",
       "     'dst_site': 'data center b',\n",
       "     'event_type': 'transfer-queued',\n",
       "     'src_site': 'data center e',\n",
       "     'timestamp': '2017-01-03T10:14:05',\n",
       "     'uuid': 'a5efd989-ee82-43db-b365-8a2bba7fb495'},\n",
       "    '_type': 'transfer'},\n",
       "   {'_id': '10003',\n",
       "    '_index': 'ft_initial',\n",
       "    '_score': 1.0,\n",
       "    '_source': {'bytes': 715530667,\n",
       "     'dst_site': 'data center b',\n",
       "     'event_type': 'transfer-queued',\n",
       "     'src_site': 'data center c',\n",
       "     'timestamp': '2017-02-18T21:08:16',\n",
       "     'uuid': 'b6f36749-41f8-4ad3-ba11-4f3456a097f5'},\n",
       "    '_type': 'transfer'},\n",
       "   {'_id': '10004',\n",
       "    '_index': 'ft_initial',\n",
       "    '_score': 1.0,\n",
       "    '_source': {'bytes': 8775843199,\n",
       "     'dst_site': 'data center c',\n",
       "     'event_type': 'transfer-queued',\n",
       "     'src_site': 'data center a',\n",
       "     'timestamp': '2017-02-21T16:11:58',\n",
       "     'uuid': '0e8fc495-e0a4-4bda-b749-0fdfee3d3abf'},\n",
       "    '_type': 'transfer'},\n",
       "   {'_id': '10005',\n",
       "    '_index': 'ft_initial',\n",
       "    '_score': 1.0,\n",
       "    '_source': {'bytes': 7318082996,\n",
       "     'dst_site': 'data center d',\n",
       "     'event_type': 'transfer-queued',\n",
       "     'src_site': 'data center a',\n",
       "     'timestamp': '2017-01-22T07:29:07',\n",
       "     'uuid': '9e0bc963-5b1f-4558-a61f-e7db031a2113'},\n",
       "    '_type': 'transfer'},\n",
       "   {'_id': '10006',\n",
       "    '_index': 'ft_initial',\n",
       "    '_score': 1.0,\n",
       "    '_source': {'bytes': 6328030393,\n",
       "     'dst_site': 'data center c',\n",
       "     'event_type': 'transfer-queued',\n",
       "     'src_site': 'data center e',\n",
       "     'timestamp': '2017-02-18T23:20:50',\n",
       "     'uuid': '4bf9bfb5-24c6-4e2d-9657-ac53bc86fd2c'},\n",
       "    '_type': 'transfer'},\n",
       "   {'_id': '10007',\n",
       "    '_index': 'ft_initial',\n",
       "    '_score': 1.0,\n",
       "    '_source': {'bytes': 1831047413,\n",
       "     'dst_site': 'data center e',\n",
       "     'event_type': 'transfer-queued',\n",
       "     'src_site': 'data center c',\n",
       "     'timestamp': '2017-02-22T22:27:38',\n",
       "     'uuid': 'f9a41bd3-5769-45cc-85ea-23a73e8fe8d2'},\n",
       "    '_type': 'transfer'},\n",
       "   {'_id': '10008',\n",
       "    '_index': 'ft_initial',\n",
       "    '_score': 1.0,\n",
       "    '_source': {'bytes': 964787152,\n",
       "     'dst_site': 'data center c',\n",
       "     'event_type': 'transfer-queued',\n",
       "     'src_site': 'data center a',\n",
       "     'timestamp': '2017-02-28T19:47:26',\n",
       "     'uuid': 'ae1352b2-5b95-4188-aba7-531656939d29'},\n",
       "    '_type': 'transfer'},\n",
       "   {'_id': '10009',\n",
       "    '_index': 'ft_initial',\n",
       "    '_score': 1.0,\n",
       "    '_source': {'bytes': 5453764125,\n",
       "     'dst_site': 'data center b',\n",
       "     'event_type': 'transfer-queued',\n",
       "     'src_site': 'data center a',\n",
       "     'timestamp': '2017-02-21T18:23:31',\n",
       "     'uuid': '93205d54-8efd-4d3a-ac23-94e6858f9589'},\n",
       "    '_type': 'transfer'},\n",
       "   {'_id': '10010',\n",
       "    '_index': 'ft_initial',\n",
       "    '_score': 1.0,\n",
       "    '_source': {'bytes': 1469524918,\n",
       "     'dst_site': 'data center b',\n",
       "     'event_type': 'transfer-queued',\n",
       "     'src_site': 'data center a',\n",
       "     'timestamp': '2017-02-26T01:20:25',\n",
       "     'uuid': 'de65a3cd-5148-4950-b1a5-eaac6218ecd8'},\n",
       "    '_type': 'transfer'}],\n",
       "  'max_score': 1.0,\n",
       "  'total': 1000000},\n",
       " 'timed_out': False,\n",
       " 'took': 9}"
      ]
     },
     "execution_count": 16,
     "metadata": {},
     "output_type": "execute_result"
    }
   ],
   "source": [
    "es.search(index='ft_initial')"
   ]
  },
  {
   "cell_type": "code",
   "execution_count": 7,
   "metadata": {
    "collapsed": false,
    "deletable": true,
    "editable": true
   },
   "outputs": [
    {
     "data": {
      "text/plain": [
       "{'acknowledged': True}"
      ]
     },
     "execution_count": 7,
     "metadata": {},
     "output_type": "execute_result"
    }
   ],
   "source": [
    "# es.indices.delete(index=['ftp_initial','ft_final'])"
   ]
  },
  {
   "cell_type": "code",
   "execution_count": null,
   "metadata": {
    "collapsed": true,
    "deletable": true,
    "editable": true
   },
   "outputs": [],
   "source": []
  }
 ],
 "metadata": {
  "kernelspec": {
   "display_name": "Python 3",
   "language": "python",
   "name": "python3"
  },
  "language_info": {
   "codemirror_mode": {
    "name": "ipython",
    "version": 3
   },
   "file_extension": ".py",
   "mimetype": "text/x-python",
   "name": "python",
   "nbconvert_exporter": "python",
   "pygments_lexer": "ipython3",
   "version": "3.5.2"
  },
  "widgets": {
   "state": {},
   "version": "1.1.2"
  }
 },
 "nbformat": 4,
 "nbformat_minor": 2
}

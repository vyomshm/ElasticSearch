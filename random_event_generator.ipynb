{
 "cells": [
  {
   "cell_type": "markdown",
   "metadata": {},
   "source": [
    "# This notebook contains code which writes fictional 1 million file transfer details, across 5 data-centers, on to a cloud hosted ElasticSearch"
   ]
  },
  {
   "cell_type": "markdown",
   "metadata": {},
   "source": [
    "### Assumptions about the data:\n",
    "\n",
    "* 5 data centers from 'a'-'e'.\n",
    "* Data center a is better i.e. more transfers originate there\n",
    "* File transfer sizes range from 1kb to 10Gb\n",
    "* 5 clusters have been made based on file sizes(0-100MB, 100MB-1Gb, 1gb-2gb, 2gb-10gb) which determine the time delay during transfer\n",
    "* All failed transfers have an automatic delay of 10 seconds\n"
   ]
  },
  {
   "cell_type": "code",
   "execution_count": 1,
   "metadata": {
    "collapsed": true
   },
   "outputs": [],
   "source": [
    "#  Dependencies\n",
    "import requests\n",
    "from elasticsearch import Elasticsearch,helpers\n",
    "import certifi\n",
    "from datetime import datetime,timedelta\n",
    "import radar\n",
    "import numpy as np\n",
    "import uuid\n",
    "import random"
   ]
  },
  {
   "cell_type": "code",
   "execution_count": 2,
   "metadata": {
    "collapsed": true
   },
   "outputs": [],
   "source": [
    "host_name ='https://9e2a4b7052bdf8fd2685a0f5a35ae274.ap-southeast-1.aws.found.io'"
   ]
  },
  {
   "cell_type": "code",
   "execution_count": 3,
   "metadata": {
    "collapsed": false
   },
   "outputs": [],
   "source": [
    "# initialise elastic search with authorisation\n",
    "es = Elasticsearch(\n",
    "        [host_name],\n",
    "        port=9243,\n",
    "        http_auth=(\"gsoc\",\"vyom@gsoc\"),\n",
    "        use_ssl=True,\n",
    "        verify_certs=True,\n",
    "        ca_certs=certifi.where(),\n",
    "    )"
   ]
  },
  {
   "cell_type": "code",
   "execution_count": 4,
   "metadata": {
    "collapsed": false
   },
   "outputs": [
    {
     "data": {
      "text/plain": [
       "200"
      ]
     },
     "execution_count": 4,
     "metadata": {},
     "output_type": "execute_result"
    }
   ],
   "source": [
    "r= requests.get(host_name, auth=('gsoc','vyom@gsoc'))\n",
    "r.status_code"
   ]
  },
  {
   "cell_type": "code",
   "execution_count": 5,
   "metadata": {
    "collapsed": true
   },
   "outputs": [],
   "source": [
    "def generate_timestamp():\n",
    "    \n",
    "    start= '2017-01-01T00:00:00'\n",
    "    end = '2017-03-01T00:00:00'\n",
    "    timestamp= radar.random_datetime(start, end)\n",
    "    return timestamp"
   ]
  },
  {
   "cell_type": "code",
   "execution_count": 6,
   "metadata": {
    "collapsed": false
   },
   "outputs": [
    {
     "name": "stdout",
     "output_type": "stream",
     "text": [
      "original time:2017-01-14 01:05:28 final_time:2017-01-14 01:16:51 time_delay:683\n"
     ]
    }
   ],
   "source": [
    "random.seed(1)\n",
    "def transfer_time(file_size):\n",
    "    if file_size>0 and file_size<=100000000:     # less than 100 MB\n",
    "        return random.gauss(1500, 500)\n",
    "    elif file_size<= 1000000000:                 # b/w 100MB and 1GB\n",
    "        return random.gauss(4000, 500)\n",
    "    elif file_size<= 2000000000:                 # b/w 1GB and 2GB\n",
    "        return random.gauss(6500, 500)\n",
    "    elif file_size <= 10000000000:               # b/w 2GB and 10GB\n",
    "        return random.gauss(9000, 500)\n",
    "    else :                                       # any anomalous value\n",
    "        return 100\n",
    "\n",
    "z= generate_timestamp()\n",
    "delay = int(transfer_time(10000000))\n",
    "w= z + timedelta(seconds=delay) \n",
    "print('original time:{} final_time:{} time_delay:{}'.format(z,w,delay))"
   ]
  },
  {
   "cell_type": "code",
   "execution_count": 9,
   "metadata": {
    "collapsed": false
   },
   "outputs": [],
   "source": [
    "bulk_initial=[]\n",
    "bulk_final=[]\n",
    "\n",
    "random.seed(1)\n",
    "np.random.seed(1)\n",
    "\n",
    "for i in range(0,10):\n",
    "    src_centers=['data center a','data center b','data center c','data center d','data center e']\n",
    "    transfer_src = np.random.choice(src_centers, p=[0.3, 0.175, 0.175, 0.175, 0.175])\n",
    "\n",
    "    dst_centers = [x for x in src_centers if x != transfer_src]\n",
    "    transfer_dst = np.random.choice(dst_centers)\n",
    "\n",
    "    final_transfer_status = ['transfer-success','transfer-failure']\n",
    "\n",
    "    transfer_starttime = generate_timestamp()\n",
    "    file_size=random.choice(range(1024,10000000000))\n",
    "\n",
    "    ftp={\n",
    "        'event_type': 'transfer-queued',\n",
    "        'uuid': uuid.uuid4(),\n",
    "        'src_site' : transfer_src,\n",
    "        'dst_site' : transfer_dst,\n",
    "        'timestamp': transfer_starttime,\n",
    "        'bytes' : file_size\n",
    "    }\n",
    "    z={\n",
    "        '_index': 'ftp_initial',\n",
    "        '_type': 'transfer',\n",
    "        '_id': (i+1),\n",
    "        '_source': ftp\n",
    "    }\n",
    "\n",
    "    bulk_initial.append(z)\n",
    "        \n",
    "    transfer_status = ['transfer-success', 'transfer-failure']\n",
    "    final_status = np.random.choice(transfer_status, p=[0.95,0.05])\n",
    "    ftp['event_type'] = final_status\n",
    "    \n",
    "    if (final_status=='transfer-failure'):\n",
    "        time_delay = 10\n",
    "    else :\n",
    "        time_delay = int(transfer_time(file_size))   # ranges roughly from 0-10000 s \n",
    "    \n",
    "    ftp['timestamp'] = transfer_starttime + timedelta(seconds=time_delay)\n",
    "    z={\n",
    "        '_index': 'ft_final',\n",
    "        '_type': 'transfer',\n",
    "        '_id': (i+1),\n",
    "        '_source': ftp\n",
    "    }\n",
    "    \n",
    "    bulk_final.append(z)"
   ]
  },
  {
   "cell_type": "code",
   "execution_count": 58,
   "metadata": {
    "collapsed": false
   },
   "outputs": [
    {
     "data": {
      "text/plain": [
       "10000"
      ]
     },
     "execution_count": 58,
     "metadata": {},
     "output_type": "execute_result"
    }
   ],
   "source": [
    "len(bulk_final)"
   ]
  },
  {
   "cell_type": "code",
   "execution_count": 59,
   "metadata": {
    "collapsed": false,
    "scrolled": true
   },
   "outputs": [
    {
     "data": {
      "text/plain": [
       "10000"
      ]
     },
     "execution_count": 59,
     "metadata": {},
     "output_type": "execute_result"
    }
   ],
   "source": [
    "len(bulk_initial)"
   ]
  },
  {
   "cell_type": "code",
   "execution_count": 60,
   "metadata": {
    "collapsed": false
   },
   "outputs": [
    {
     "data": {
      "text/plain": [
       "(10000, [])"
      ]
     },
     "execution_count": 60,
     "metadata": {},
     "output_type": "execute_result"
    }
   ],
   "source": [
    "helpers.bulk(es,bulk_initial)"
   ]
  },
  {
   "cell_type": "code",
   "execution_count": 61,
   "metadata": {
    "collapsed": false
   },
   "outputs": [
    {
     "data": {
      "text/plain": [
       "(10000, [])"
      ]
     },
     "execution_count": 61,
     "metadata": {},
     "output_type": "execute_result"
    }
   ],
   "source": [
    "helpers.bulk(es,bulk_final)"
   ]
  },
  {
   "cell_type": "code",
   "execution_count": 63,
   "metadata": {
    "collapsed": false,
    "scrolled": true
   },
   "outputs": [
    {
     "data": {
      "text/plain": [
       "{'_shards': {'failed': 0, 'successful': 1, 'total': 1},\n",
       " 'hits': {'hits': [{'_id': '3001',\n",
       "    '_index': 'ft_final',\n",
       "    '_score': 1.0,\n",
       "    '_source': {'bytes': 4295223887,\n",
       "     'dst_site': 'data center d',\n",
       "     'event_type': 'transfer-success',\n",
       "     'src_site': 'data center b',\n",
       "     'timestamp': '2017-02-24T15:18:06',\n",
       "     'uuid': 'c97ad83d-c778-4840-963a-31fba27da11c'},\n",
       "    '_type': 'transfer'},\n",
       "   {'_id': '3002',\n",
       "    '_index': 'ft_final',\n",
       "    '_score': 1.0,\n",
       "    '_source': {'bytes': 1372350991,\n",
       "     'dst_site': 'data center b',\n",
       "     'event_type': 'transfer-success',\n",
       "     'src_site': 'data center c',\n",
       "     'timestamp': '2017-02-28T13:48:02',\n",
       "     'uuid': 'bea7c681-4657-4561-ba97-fdbbffe22604'},\n",
       "    '_type': 'transfer'},\n",
       "   {'_id': '3003',\n",
       "    '_index': 'ft_final',\n",
       "    '_score': 1.0,\n",
       "    '_source': {'bytes': 9221405689,\n",
       "     'dst_site': 'data center a',\n",
       "     'event_type': 'transfer-success',\n",
       "     'src_site': 'data center c',\n",
       "     'timestamp': '2017-01-22T16:24:18',\n",
       "     'uuid': '176bb51d-eb42-4d15-a3ba-d97480cdbf6d'},\n",
       "    '_type': 'transfer'},\n",
       "   {'_id': '3004',\n",
       "    '_index': 'ft_final',\n",
       "    '_score': 1.0,\n",
       "    '_source': {'bytes': 357114669,\n",
       "     'dst_site': 'data center d',\n",
       "     'event_type': 'transfer-success',\n",
       "     'src_site': 'data center b',\n",
       "     'timestamp': '2017-01-05T02:53:01',\n",
       "     'uuid': '1605e05e-1aa8-4ea1-9735-a816f8714808'},\n",
       "    '_type': 'transfer'},\n",
       "   {'_id': '3005',\n",
       "    '_index': 'ft_final',\n",
       "    '_score': 1.0,\n",
       "    '_source': {'bytes': 9744350529,\n",
       "     'dst_site': 'data center d',\n",
       "     'event_type': 'transfer-success',\n",
       "     'src_site': 'data center a',\n",
       "     'timestamp': '2017-01-03T20:50:29',\n",
       "     'uuid': 'd17905ec-2be5-4625-8518-5f6178cbea6b'},\n",
       "    '_type': 'transfer'},\n",
       "   {'_id': '3006',\n",
       "    '_index': 'ft_final',\n",
       "    '_score': 1.0,\n",
       "    '_source': {'bytes': 7445357143,\n",
       "     'dst_site': 'data center e',\n",
       "     'event_type': 'transfer-success',\n",
       "     'src_site': 'data center c',\n",
       "     'timestamp': '2017-01-30T12:21:09',\n",
       "     'uuid': 'b75b7edb-6c51-41df-a0c9-ac7844c973b1'},\n",
       "    '_type': 'transfer'},\n",
       "   {'_id': '3007',\n",
       "    '_index': 'ft_final',\n",
       "    '_score': 1.0,\n",
       "    '_source': {'bytes': 2437953595,\n",
       "     'dst_site': 'data center c',\n",
       "     'event_type': 'transfer-success',\n",
       "     'src_site': 'data center a',\n",
       "     'timestamp': '2017-02-08T21:37:24',\n",
       "     'uuid': 'f3d7b729-4099-4bed-b426-ab3394ea5009'},\n",
       "    '_type': 'transfer'},\n",
       "   {'_id': '3008',\n",
       "    '_index': 'ft_final',\n",
       "    '_score': 1.0,\n",
       "    '_source': {'bytes': 9586352273,\n",
       "     'dst_site': 'data center e',\n",
       "     'event_type': 'transfer-success',\n",
       "     'src_site': 'data center d',\n",
       "     'timestamp': '2017-02-04T21:37:31',\n",
       "     'uuid': 'e211988b-e13e-4105-887f-8d2c979f1c40'},\n",
       "    '_type': 'transfer'},\n",
       "   {'_id': '3009',\n",
       "    '_index': 'ft_final',\n",
       "    '_score': 1.0,\n",
       "    '_source': {'bytes': 6814610298,\n",
       "     'dst_site': 'data center c',\n",
       "     'event_type': 'transfer-success',\n",
       "     'src_site': 'data center e',\n",
       "     'timestamp': '2017-01-10T08:40:13',\n",
       "     'uuid': 'ea91b32c-2c3d-4648-8d67-c9c36bb950da'},\n",
       "    '_type': 'transfer'},\n",
       "   {'_id': '3010',\n",
       "    '_index': 'ft_final',\n",
       "    '_score': 1.0,\n",
       "    '_source': {'bytes': 8290758346,\n",
       "     'dst_site': 'data center c',\n",
       "     'event_type': 'transfer-success',\n",
       "     'src_site': 'data center b',\n",
       "     'timestamp': '2017-01-20T00:37:47',\n",
       "     'uuid': 'cc20dcaa-10db-45ec-aa64-e664a38cc0df'},\n",
       "    '_type': 'transfer'}],\n",
       "  'max_score': 1.0,\n",
       "  'total': 10000},\n",
       " 'timed_out': False,\n",
       " 'took': 2}"
      ]
     },
     "execution_count": 63,
     "metadata": {},
     "output_type": "execute_result"
    }
   ],
   "source": [
    "es.search(index='ft_final')"
   ]
  },
  {
   "cell_type": "code",
   "execution_count": 64,
   "metadata": {
    "collapsed": false
   },
   "outputs": [
    {
     "data": {
      "text/plain": [
       "{'_shards': {'failed': 0, 'successful': 1, 'total': 1},\n",
       " 'hits': {'hits': [{'_id': '3001',\n",
       "    '_index': 'ftp_initial',\n",
       "    '_score': 1.0,\n",
       "    '_source': {'bytes': 4295223887,\n",
       "     'dst_site': 'data center d',\n",
       "     'event_type': 'transfer-success',\n",
       "     'src_site': 'data center b',\n",
       "     'timestamp': '2017-02-24T15:18:06',\n",
       "     'uuid': 'c97ad83d-c778-4840-963a-31fba27da11c'},\n",
       "    '_type': 'transfer'},\n",
       "   {'_id': '3002',\n",
       "    '_index': 'ftp_initial',\n",
       "    '_score': 1.0,\n",
       "    '_source': {'bytes': 1372350991,\n",
       "     'dst_site': 'data center b',\n",
       "     'event_type': 'transfer-success',\n",
       "     'src_site': 'data center c',\n",
       "     'timestamp': '2017-02-28T13:48:02',\n",
       "     'uuid': 'bea7c681-4657-4561-ba97-fdbbffe22604'},\n",
       "    '_type': 'transfer'},\n",
       "   {'_id': '3003',\n",
       "    '_index': 'ftp_initial',\n",
       "    '_score': 1.0,\n",
       "    '_source': {'bytes': 9221405689,\n",
       "     'dst_site': 'data center a',\n",
       "     'event_type': 'transfer-success',\n",
       "     'src_site': 'data center c',\n",
       "     'timestamp': '2017-01-22T16:24:18',\n",
       "     'uuid': '176bb51d-eb42-4d15-a3ba-d97480cdbf6d'},\n",
       "    '_type': 'transfer'},\n",
       "   {'_id': '3004',\n",
       "    '_index': 'ftp_initial',\n",
       "    '_score': 1.0,\n",
       "    '_source': {'bytes': 357114669,\n",
       "     'dst_site': 'data center d',\n",
       "     'event_type': 'transfer-success',\n",
       "     'src_site': 'data center b',\n",
       "     'timestamp': '2017-01-05T02:53:01',\n",
       "     'uuid': '1605e05e-1aa8-4ea1-9735-a816f8714808'},\n",
       "    '_type': 'transfer'},\n",
       "   {'_id': '3005',\n",
       "    '_index': 'ftp_initial',\n",
       "    '_score': 1.0,\n",
       "    '_source': {'bytes': 9744350529,\n",
       "     'dst_site': 'data center d',\n",
       "     'event_type': 'transfer-success',\n",
       "     'src_site': 'data center a',\n",
       "     'timestamp': '2017-01-03T20:50:29',\n",
       "     'uuid': 'd17905ec-2be5-4625-8518-5f6178cbea6b'},\n",
       "    '_type': 'transfer'},\n",
       "   {'_id': '3006',\n",
       "    '_index': 'ftp_initial',\n",
       "    '_score': 1.0,\n",
       "    '_source': {'bytes': 7445357143,\n",
       "     'dst_site': 'data center e',\n",
       "     'event_type': 'transfer-success',\n",
       "     'src_site': 'data center c',\n",
       "     'timestamp': '2017-01-30T12:21:09',\n",
       "     'uuid': 'b75b7edb-6c51-41df-a0c9-ac7844c973b1'},\n",
       "    '_type': 'transfer'},\n",
       "   {'_id': '3007',\n",
       "    '_index': 'ftp_initial',\n",
       "    '_score': 1.0,\n",
       "    '_source': {'bytes': 2437953595,\n",
       "     'dst_site': 'data center c',\n",
       "     'event_type': 'transfer-success',\n",
       "     'src_site': 'data center a',\n",
       "     'timestamp': '2017-02-08T21:37:24',\n",
       "     'uuid': 'f3d7b729-4099-4bed-b426-ab3394ea5009'},\n",
       "    '_type': 'transfer'},\n",
       "   {'_id': '3008',\n",
       "    '_index': 'ftp_initial',\n",
       "    '_score': 1.0,\n",
       "    '_source': {'bytes': 9586352273,\n",
       "     'dst_site': 'data center e',\n",
       "     'event_type': 'transfer-success',\n",
       "     'src_site': 'data center d',\n",
       "     'timestamp': '2017-02-04T21:37:31',\n",
       "     'uuid': 'e211988b-e13e-4105-887f-8d2c979f1c40'},\n",
       "    '_type': 'transfer'},\n",
       "   {'_id': '3009',\n",
       "    '_index': 'ftp_initial',\n",
       "    '_score': 1.0,\n",
       "    '_source': {'bytes': 6814610298,\n",
       "     'dst_site': 'data center c',\n",
       "     'event_type': 'transfer-success',\n",
       "     'src_site': 'data center e',\n",
       "     'timestamp': '2017-01-10T08:40:13',\n",
       "     'uuid': 'ea91b32c-2c3d-4648-8d67-c9c36bb950da'},\n",
       "    '_type': 'transfer'},\n",
       "   {'_id': '3010',\n",
       "    '_index': 'ftp_initial',\n",
       "    '_score': 1.0,\n",
       "    '_source': {'bytes': 8290758346,\n",
       "     'dst_site': 'data center c',\n",
       "     'event_type': 'transfer-success',\n",
       "     'src_site': 'data center b',\n",
       "     'timestamp': '2017-01-20T00:37:47',\n",
       "     'uuid': 'cc20dcaa-10db-45ec-aa64-e664a38cc0df'},\n",
       "    '_type': 'transfer'}],\n",
       "  'max_score': 1.0,\n",
       "  'total': 10000},\n",
       " 'timed_out': False,\n",
       " 'took': 1}"
      ]
     },
     "execution_count": 64,
     "metadata": {},
     "output_type": "execute_result"
    }
   ],
   "source": [
    "es.search(index='ftp_initial')"
   ]
  },
  {
   "cell_type": "code",
   "execution_count": 8,
   "metadata": {
    "collapsed": false
   },
   "outputs": [
    {
     "name": "stderr",
     "output_type": "stream",
     "text": [
      "DELETE https://9e2a4b7052bdf8fd2685a0f5a35ae274.ap-southeast-1.aws.found.io:443/ftp_initial,ft_final [status:404 request:1.685s]\n"
     ]
    },
    {
     "ename": "TypeError",
     "evalue": "string indices must be integers",
     "output_type": "error",
     "traceback": [
      "\u001b[0;31m---------------------------------------------------------------------------\u001b[0m",
      "\u001b[0;31mNotFoundError\u001b[0m                             Traceback (most recent call last)",
      "\u001b[0;32m/home/vyom/.local/lib/python3.5/site-packages/IPython/core/interactiveshell.py\u001b[0m in \u001b[0;36mrun_code\u001b[0;34m(self, code_obj, result)\u001b[0m\n\u001b[1;32m   2880\u001b[0m                 \u001b[0;31m#rprint('Running code', repr(code_obj)) # dbg\u001b[0m\u001b[0;34m\u001b[0m\u001b[0;34m\u001b[0m\u001b[0m\n\u001b[0;32m-> 2881\u001b[0;31m                 \u001b[0mexec\u001b[0m\u001b[0;34m(\u001b[0m\u001b[0mcode_obj\u001b[0m\u001b[0;34m,\u001b[0m \u001b[0mself\u001b[0m\u001b[0;34m.\u001b[0m\u001b[0muser_global_ns\u001b[0m\u001b[0;34m,\u001b[0m \u001b[0mself\u001b[0m\u001b[0;34m.\u001b[0m\u001b[0muser_ns\u001b[0m\u001b[0;34m)\u001b[0m\u001b[0;34m\u001b[0m\u001b[0m\n\u001b[0m\u001b[1;32m   2882\u001b[0m             \u001b[0;32mfinally\u001b[0m\u001b[0;34m:\u001b[0m\u001b[0;34m\u001b[0m\u001b[0m\n",
      "\u001b[0;32m<ipython-input-8-35d08f712c5d>\u001b[0m in \u001b[0;36m<module>\u001b[0;34m()\u001b[0m\n\u001b[0;32m----> 1\u001b[0;31m \u001b[0mes\u001b[0m\u001b[0;34m.\u001b[0m\u001b[0mindices\u001b[0m\u001b[0;34m.\u001b[0m\u001b[0mdelete\u001b[0m\u001b[0;34m(\u001b[0m\u001b[0mindex\u001b[0m\u001b[0;34m=\u001b[0m\u001b[0;34m[\u001b[0m\u001b[0;34m'ftp_initial'\u001b[0m\u001b[0;34m,\u001b[0m\u001b[0;34m'ft_final'\u001b[0m\u001b[0;34m]\u001b[0m\u001b[0;34m)\u001b[0m\u001b[0;34m\u001b[0m\u001b[0m\n\u001b[0m",
      "\u001b[0;32m/home/vyom/anaconda3/envs/CERN/lib/python3.5/site-packages/elasticsearch/client/utils.py\u001b[0m in \u001b[0;36m_wrapped\u001b[0;34m(*args, **kwargs)\u001b[0m\n\u001b[1;32m     72\u001b[0m                     \u001b[0mparams\u001b[0m\u001b[0;34m[\u001b[0m\u001b[0mp\u001b[0m\u001b[0;34m]\u001b[0m \u001b[0;34m=\u001b[0m \u001b[0mkwargs\u001b[0m\u001b[0;34m.\u001b[0m\u001b[0mpop\u001b[0m\u001b[0;34m(\u001b[0m\u001b[0mp\u001b[0m\u001b[0;34m)\u001b[0m\u001b[0;34m\u001b[0m\u001b[0m\n\u001b[0;32m---> 73\u001b[0;31m             \u001b[0;32mreturn\u001b[0m \u001b[0mfunc\u001b[0m\u001b[0;34m(\u001b[0m\u001b[0;34m*\u001b[0m\u001b[0margs\u001b[0m\u001b[0;34m,\u001b[0m \u001b[0mparams\u001b[0m\u001b[0;34m=\u001b[0m\u001b[0mparams\u001b[0m\u001b[0;34m,\u001b[0m \u001b[0;34m**\u001b[0m\u001b[0mkwargs\u001b[0m\u001b[0;34m)\u001b[0m\u001b[0;34m\u001b[0m\u001b[0m\n\u001b[0m\u001b[1;32m     74\u001b[0m         \u001b[0;32mreturn\u001b[0m \u001b[0m_wrapped\u001b[0m\u001b[0;34m\u001b[0m\u001b[0m\n",
      "\u001b[0;32m/home/vyom/anaconda3/envs/CERN/lib/python3.5/site-packages/elasticsearch/client/indices.py\u001b[0m in \u001b[0;36mdelete\u001b[0;34m(self, index, params)\u001b[0m\n\u001b[1;32m    199\u001b[0m         return self.transport.perform_request('DELETE', _make_path(index),\n\u001b[0;32m--> 200\u001b[0;31m             params=params)\n\u001b[0m\u001b[1;32m    201\u001b[0m \u001b[0;34m\u001b[0m\u001b[0m\n",
      "\u001b[0;32m/home/vyom/anaconda3/envs/CERN/lib/python3.5/site-packages/elasticsearch/transport.py\u001b[0m in \u001b[0;36mperform_request\u001b[0;34m(self, method, url, params, body)\u001b[0m\n\u001b[1;32m    317\u001b[0m             \u001b[0;32mtry\u001b[0m\u001b[0;34m:\u001b[0m\u001b[0;34m\u001b[0m\u001b[0m\n\u001b[0;32m--> 318\u001b[0;31m                 \u001b[0mstatus\u001b[0m\u001b[0;34m,\u001b[0m \u001b[0mheaders\u001b[0m\u001b[0;34m,\u001b[0m \u001b[0mdata\u001b[0m \u001b[0;34m=\u001b[0m \u001b[0mconnection\u001b[0m\u001b[0;34m.\u001b[0m\u001b[0mperform_request\u001b[0m\u001b[0;34m(\u001b[0m\u001b[0mmethod\u001b[0m\u001b[0;34m,\u001b[0m \u001b[0murl\u001b[0m\u001b[0;34m,\u001b[0m \u001b[0mparams\u001b[0m\u001b[0;34m,\u001b[0m \u001b[0mbody\u001b[0m\u001b[0;34m,\u001b[0m \u001b[0mignore\u001b[0m\u001b[0;34m=\u001b[0m\u001b[0mignore\u001b[0m\u001b[0;34m,\u001b[0m \u001b[0mtimeout\u001b[0m\u001b[0;34m=\u001b[0m\u001b[0mtimeout\u001b[0m\u001b[0;34m)\u001b[0m\u001b[0;34m\u001b[0m\u001b[0m\n\u001b[0m\u001b[1;32m    319\u001b[0m \u001b[0;34m\u001b[0m\u001b[0m\n",
      "\u001b[0;32m/home/vyom/anaconda3/envs/CERN/lib/python3.5/site-packages/elasticsearch/connection/http_urllib3.py\u001b[0m in \u001b[0;36mperform_request\u001b[0;34m(self, method, url, params, body, timeout, ignore)\u001b[0m\n\u001b[1;32m    127\u001b[0m             \u001b[0mself\u001b[0m\u001b[0;34m.\u001b[0m\u001b[0mlog_request_fail\u001b[0m\u001b[0;34m(\u001b[0m\u001b[0mmethod\u001b[0m\u001b[0;34m,\u001b[0m \u001b[0mfull_url\u001b[0m\u001b[0;34m,\u001b[0m \u001b[0murl\u001b[0m\u001b[0;34m,\u001b[0m \u001b[0mbody\u001b[0m\u001b[0;34m,\u001b[0m \u001b[0mduration\u001b[0m\u001b[0;34m,\u001b[0m \u001b[0mresponse\u001b[0m\u001b[0;34m.\u001b[0m\u001b[0mstatus\u001b[0m\u001b[0;34m,\u001b[0m \u001b[0mraw_data\u001b[0m\u001b[0;34m)\u001b[0m\u001b[0;34m\u001b[0m\u001b[0m\n\u001b[0;32m--> 128\u001b[0;31m             \u001b[0mself\u001b[0m\u001b[0;34m.\u001b[0m\u001b[0m_raise_error\u001b[0m\u001b[0;34m(\u001b[0m\u001b[0mresponse\u001b[0m\u001b[0;34m.\u001b[0m\u001b[0mstatus\u001b[0m\u001b[0;34m,\u001b[0m \u001b[0mraw_data\u001b[0m\u001b[0;34m)\u001b[0m\u001b[0;34m\u001b[0m\u001b[0m\n\u001b[0m\u001b[1;32m    129\u001b[0m \u001b[0;34m\u001b[0m\u001b[0m\n",
      "\u001b[0;32m/home/vyom/anaconda3/envs/CERN/lib/python3.5/site-packages/elasticsearch/connection/base.py\u001b[0m in \u001b[0;36m_raise_error\u001b[0;34m(self, status_code, raw_data)\u001b[0m\n\u001b[1;32m    121\u001b[0m \u001b[0;34m\u001b[0m\u001b[0m\n\u001b[0;32m--> 122\u001b[0;31m         \u001b[0;32mraise\u001b[0m \u001b[0mHTTP_EXCEPTIONS\u001b[0m\u001b[0;34m.\u001b[0m\u001b[0mget\u001b[0m\u001b[0;34m(\u001b[0m\u001b[0mstatus_code\u001b[0m\u001b[0;34m,\u001b[0m \u001b[0mTransportError\u001b[0m\u001b[0;34m)\u001b[0m\u001b[0;34m(\u001b[0m\u001b[0mstatus_code\u001b[0m\u001b[0;34m,\u001b[0m \u001b[0merror_message\u001b[0m\u001b[0;34m,\u001b[0m \u001b[0madditional_info\u001b[0m\u001b[0;34m)\u001b[0m\u001b[0;34m\u001b[0m\u001b[0m\n\u001b[0m\u001b[1;32m    123\u001b[0m \u001b[0;34m\u001b[0m\u001b[0m\n",
      "\u001b[0;31m<class 'str'>\u001b[0m: (<class 'TypeError'>, TypeError('string indices must be integers',))",
      "\nDuring handling of the above exception, another exception occurred:\n",
      "\u001b[0;31mTypeError\u001b[0m                                 Traceback (most recent call last)",
      "\u001b[0;32m/home/vyom/.local/lib/python3.5/site-packages/IPython/core/interactiveshell.py\u001b[0m in \u001b[0;36mrun_code\u001b[0;34m(self, code_obj, result)\u001b[0m\n\u001b[1;32m   2896\u001b[0m             \u001b[0;32mif\u001b[0m \u001b[0mresult\u001b[0m \u001b[0;32mis\u001b[0m \u001b[0;32mnot\u001b[0m \u001b[0;32mNone\u001b[0m\u001b[0;34m:\u001b[0m\u001b[0;34m\u001b[0m\u001b[0m\n\u001b[1;32m   2897\u001b[0m                 \u001b[0mresult\u001b[0m\u001b[0;34m.\u001b[0m\u001b[0merror_in_exec\u001b[0m \u001b[0;34m=\u001b[0m \u001b[0msys\u001b[0m\u001b[0;34m.\u001b[0m\u001b[0mexc_info\u001b[0m\u001b[0;34m(\u001b[0m\u001b[0;34m)\u001b[0m\u001b[0;34m[\u001b[0m\u001b[0;36m1\u001b[0m\u001b[0;34m]\u001b[0m\u001b[0;34m\u001b[0m\u001b[0m\n\u001b[0;32m-> 2898\u001b[0;31m             \u001b[0mself\u001b[0m\u001b[0;34m.\u001b[0m\u001b[0mshowtraceback\u001b[0m\u001b[0;34m(\u001b[0m\u001b[0;34m)\u001b[0m\u001b[0;34m\u001b[0m\u001b[0m\n\u001b[0m\u001b[1;32m   2899\u001b[0m         \u001b[0;32melse\u001b[0m\u001b[0;34m:\u001b[0m\u001b[0;34m\u001b[0m\u001b[0m\n\u001b[1;32m   2900\u001b[0m             \u001b[0moutflag\u001b[0m \u001b[0;34m=\u001b[0m \u001b[0;36m0\u001b[0m\u001b[0;34m\u001b[0m\u001b[0m\n",
      "\u001b[0;32m/home/vyom/.local/lib/python3.5/site-packages/IPython/core/interactiveshell.py\u001b[0m in \u001b[0;36mshowtraceback\u001b[0;34m(self, exc_tuple, filename, tb_offset, exception_only)\u001b[0m\n\u001b[1;32m   1824\u001b[0m                                             value, tb, tb_offset=tb_offset)\n\u001b[1;32m   1825\u001b[0m \u001b[0;34m\u001b[0m\u001b[0m\n\u001b[0;32m-> 1826\u001b[0;31m                     \u001b[0mself\u001b[0m\u001b[0;34m.\u001b[0m\u001b[0m_showtraceback\u001b[0m\u001b[0;34m(\u001b[0m\u001b[0metype\u001b[0m\u001b[0;34m,\u001b[0m \u001b[0mvalue\u001b[0m\u001b[0;34m,\u001b[0m \u001b[0mstb\u001b[0m\u001b[0;34m)\u001b[0m\u001b[0;34m\u001b[0m\u001b[0m\n\u001b[0m\u001b[1;32m   1827\u001b[0m                     \u001b[0;32mif\u001b[0m \u001b[0mself\u001b[0m\u001b[0;34m.\u001b[0m\u001b[0mcall_pdb\u001b[0m\u001b[0;34m:\u001b[0m\u001b[0;34m\u001b[0m\u001b[0m\n\u001b[1;32m   1828\u001b[0m                         \u001b[0;31m# drop into debugger\u001b[0m\u001b[0;34m\u001b[0m\u001b[0;34m\u001b[0m\u001b[0m\n",
      "\u001b[0;32m/home/vyom/anaconda3/envs/CERN/lib/python3.5/site-packages/ipykernel/zmqshell.py\u001b[0m in \u001b[0;36m_showtraceback\u001b[0;34m(self, etype, evalue, stb)\u001b[0m\n\u001b[1;32m    509\u001b[0m             \u001b[0;34mu'traceback'\u001b[0m \u001b[0;34m:\u001b[0m \u001b[0mstb\u001b[0m\u001b[0;34m,\u001b[0m\u001b[0;34m\u001b[0m\u001b[0m\n\u001b[1;32m    510\u001b[0m             \u001b[0;34mu'ename'\u001b[0m \u001b[0;34m:\u001b[0m \u001b[0municode_type\u001b[0m\u001b[0;34m(\u001b[0m\u001b[0metype\u001b[0m\u001b[0;34m.\u001b[0m\u001b[0m__name__\u001b[0m\u001b[0;34m)\u001b[0m\u001b[0;34m,\u001b[0m\u001b[0;34m\u001b[0m\u001b[0m\n\u001b[0;32m--> 511\u001b[0;31m             \u001b[0;34mu'evalue'\u001b[0m \u001b[0;34m:\u001b[0m \u001b[0mpy3compat\u001b[0m\u001b[0;34m.\u001b[0m\u001b[0msafe_unicode\u001b[0m\u001b[0;34m(\u001b[0m\u001b[0mevalue\u001b[0m\u001b[0;34m)\u001b[0m\u001b[0;34m,\u001b[0m\u001b[0;34m\u001b[0m\u001b[0m\n\u001b[0m\u001b[1;32m    512\u001b[0m         }\n\u001b[1;32m    513\u001b[0m \u001b[0;34m\u001b[0m\u001b[0m\n",
      "\u001b[0;32m/home/vyom/.local/lib/python3.5/site-packages/ipython_genutils/py3compat.py\u001b[0m in \u001b[0;36msafe_unicode\u001b[0;34m(e)\u001b[0m\n\u001b[1;32m     63\u001b[0m     \"\"\"\n\u001b[1;32m     64\u001b[0m     \u001b[0;32mtry\u001b[0m\u001b[0;34m:\u001b[0m\u001b[0;34m\u001b[0m\u001b[0m\n\u001b[0;32m---> 65\u001b[0;31m         \u001b[0;32mreturn\u001b[0m \u001b[0municode_type\u001b[0m\u001b[0;34m(\u001b[0m\u001b[0me\u001b[0m\u001b[0;34m)\u001b[0m\u001b[0;34m\u001b[0m\u001b[0m\n\u001b[0m\u001b[1;32m     66\u001b[0m     \u001b[0;32mexcept\u001b[0m \u001b[0mUnicodeError\u001b[0m\u001b[0;34m:\u001b[0m\u001b[0;34m\u001b[0m\u001b[0m\n\u001b[1;32m     67\u001b[0m         \u001b[0;32mpass\u001b[0m\u001b[0;34m\u001b[0m\u001b[0m\n",
      "\u001b[0;32m/home/vyom/anaconda3/envs/CERN/lib/python3.5/site-packages/elasticsearch/exceptions.py\u001b[0m in \u001b[0;36m__str__\u001b[0;34m(self)\u001b[0m\n\u001b[1;32m     53\u001b[0m         \u001b[0;32mtry\u001b[0m\u001b[0;34m:\u001b[0m\u001b[0;34m\u001b[0m\u001b[0m\n\u001b[1;32m     54\u001b[0m             \u001b[0;32mif\u001b[0m \u001b[0mself\u001b[0m\u001b[0;34m.\u001b[0m\u001b[0minfo\u001b[0m\u001b[0;34m:\u001b[0m\u001b[0;34m\u001b[0m\u001b[0m\n\u001b[0;32m---> 55\u001b[0;31m                 \u001b[0mcause\u001b[0m \u001b[0;34m=\u001b[0m \u001b[0;34m', %r'\u001b[0m \u001b[0;34m%\u001b[0m \u001b[0mself\u001b[0m\u001b[0;34m.\u001b[0m\u001b[0minfo\u001b[0m\u001b[0;34m[\u001b[0m\u001b[0;34m'error'\u001b[0m\u001b[0;34m]\u001b[0m\u001b[0;34m[\u001b[0m\u001b[0;34m'root_cause'\u001b[0m\u001b[0;34m]\u001b[0m\u001b[0;34m[\u001b[0m\u001b[0;36m0\u001b[0m\u001b[0;34m]\u001b[0m\u001b[0;34m[\u001b[0m\u001b[0;34m'reason'\u001b[0m\u001b[0;34m]\u001b[0m\u001b[0;34m\u001b[0m\u001b[0m\n\u001b[0m\u001b[1;32m     56\u001b[0m         \u001b[0;32mexcept\u001b[0m \u001b[0mLookupError\u001b[0m\u001b[0;34m:\u001b[0m\u001b[0;34m\u001b[0m\u001b[0m\n\u001b[1;32m     57\u001b[0m             \u001b[0;32mpass\u001b[0m\u001b[0;34m\u001b[0m\u001b[0m\n",
      "\u001b[0;31mTypeError\u001b[0m: string indices must be integers"
     ]
    }
   ],
   "source": [
    "es.indices.delete(index=['ftp_initial','ft_final'])"
   ]
  },
  {
   "cell_type": "code",
   "execution_count": null,
   "metadata": {
    "collapsed": true
   },
   "outputs": [],
   "source": []
  }
 ],
 "metadata": {
  "kernelspec": {
   "display_name": "Python 3",
   "language": "python",
   "name": "python3"
  },
  "language_info": {
   "codemirror_mode": {
    "name": "ipython",
    "version": 3
   },
   "file_extension": ".py",
   "mimetype": "text/x-python",
   "name": "python",
   "nbconvert_exporter": "python",
   "pygments_lexer": "ipython3",
   "version": "3.5.3"
  }
 },
 "nbformat": 4,
 "nbformat_minor": 2
}
